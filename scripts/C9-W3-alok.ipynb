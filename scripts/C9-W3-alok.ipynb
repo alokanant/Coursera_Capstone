{
 "cells": [
  {
   "cell_type": "markdown",
   "metadata": {},
   "source": [
    "Step 1: scrape the Wikipedia page, https://en.wikipedia.org/wiki/List_of_postal_codes_of_Canada:_M."
   ]
  },
  {
   "cell_type": "code",
   "execution_count": 1,
   "metadata": {},
   "outputs": [],
   "source": [
    "import urllib.request"
   ]
  },
  {
   "cell_type": "code",
   "execution_count": 2,
   "metadata": {},
   "outputs": [],
   "source": [
    "url = 'https://en.wikipedia.org/wiki/List_of_postal_codes_of_Canada:_M'\n",
    "#url\n",
    "page = urllib.request.urlopen(url) #import the url and get HTML to page"
   ]
  },
  {
   "cell_type": "code",
   "execution_count": 3,
   "metadata": {},
   "outputs": [
    {
     "name": "stdout",
     "output_type": "stream",
     "text": [
      "Collecting bs4\n",
      "  Downloading https://files.pythonhosted.org/packages/10/ed/7e8b97591f6f456174139ec089c769f89a94a1a4025fe967691de971f314/bs4-0.0.1.tar.gz\n",
      "Collecting beautifulsoup4 (from bs4)\n",
      "\u001b[?25l  Downloading https://files.pythonhosted.org/packages/d1/41/e6495bd7d3781cee623ce23ea6ac73282a373088fcd0ddc809a047b18eae/beautifulsoup4-4.9.3-py3-none-any.whl (115kB)\n",
      "\u001b[K     |████████████████████████████████| 122kB 6.9MB/s eta 0:00:01\n",
      "\u001b[?25hCollecting soupsieve>1.2; python_version >= \"3.0\" (from beautifulsoup4->bs4)\n",
      "  Downloading https://files.pythonhosted.org/packages/6f/8f/457f4a5390eeae1cc3aeab89deb7724c965be841ffca6cfca9197482e470/soupsieve-2.0.1-py3-none-any.whl\n",
      "Building wheels for collected packages: bs4\n",
      "  Building wheel for bs4 (setup.py) ... \u001b[?25ldone\n",
      "\u001b[?25h  Stored in directory: /home/jupyterlab/.cache/pip/wheels/a0/b0/b2/4f80b9456b87abedbc0bf2d52235414c3467d8889be38dd472\n",
      "Successfully built bs4\n",
      "Installing collected packages: soupsieve, beautifulsoup4, bs4\n",
      "Successfully installed beautifulsoup4-4.9.3 bs4-0.0.1 soupsieve-2.0.1\n"
     ]
    }
   ],
   "source": [
    "# import the BeautifulSoup library so we can parse HTML and XML documents\n",
    "!pip install bs4\n",
    "from bs4 import BeautifulSoup"
   ]
  },
  {
   "cell_type": "code",
   "execution_count": 4,
   "metadata": {},
   "outputs": [],
   "source": [
    "# parse the HTML from our URL into the BeautifulSoup parse tree format\n",
    "soup = BeautifulSoup(page, \"html.parser\")"
   ]
  },
  {
   "cell_type": "code",
   "execution_count": 5,
   "metadata": {},
   "outputs": [],
   "source": [
    "nbr_table=soup.find('table', class_='wikitable sortable')\n",
    "#nbr_table"
   ]
  },
  {
   "cell_type": "code",
   "execution_count": 35,
   "metadata": {},
   "outputs": [
    {
     "data": {
      "text/plain": [
       "0"
      ]
     },
     "execution_count": 35,
     "metadata": {},
     "output_type": "execute_result"
    }
   ],
   "source": [
    "#There are 3 columns of interest - PostalCode, Borough, Neighborhood\n",
    "PC_list=[]\n",
    "B_list=[]\n",
    "N_list=[]\n",
    "for row in nbr_table.findAll('tr'):\n",
    "    cells=row.findAll('td')\n",
    "    if len(cells)==3:\n",
    "        PC_list.append(cells[0].find(text=True).strip())\n",
    "        B_list.append(cells[1].find(text=True).strip())\n",
    "        N_list.append(cells[2].find(text=True).strip())\n",
    "\n",
    "# check\n",
    "# for x in range(5):\n",
    "#   print (PC_list[x] + \" \" + B_list[x] + \" \" + N_list[x])\n"
   ]
  },
  {
   "cell_type": "code",
   "execution_count": 41,
   "metadata": {},
   "outputs": [
    {
     "name": "stdout",
     "output_type": "stream",
     "text": [
      "Number of not assigned neighborhood = 77\n"
     ]
    }
   ],
   "source": [
    "import pandas as pd\n",
    "df_nbr_raw = pd.DataFrame(PC_list, columns=['PostalCode'])\n",
    "df_nbr_raw['Borough'] = B_list\n",
    "df_nbr_raw['Neighborhood'] = N_list\n",
    "df_nbr_raw.head()\n",
    "print (\"Number of not assigned neighborhood = \" + str(df_nbr_raw[df_nbr_raw.Neighborhood =='Not assigned'].shape[0]))\n",
    "#df_nbr_raw.shape"
   ]
  },
  {
   "cell_type": "code",
   "execution_count": 42,
   "metadata": {},
   "outputs": [
    {
     "name": "stdout",
     "output_type": "stream",
     "text": [
      "Number of not assigned neighborhood = 0\n"
     ]
    }
   ],
   "source": [
    "#Only process the cells that have an assigned borough. Ignore cells with a borough that is Not assigned.\n",
    "row_ids = df_nbr_raw[df_nbr_raw.Borough.str.lower() == 'not assigned'].index\n",
    "#index_names\n",
    "df_nbr_raw.drop(row_ids, inplace=True)\n",
    "df_nbr_raw.reset_index(drop=True, inplace=True)\n",
    "df_nbr_raw.head()\n",
    "#df_nbr_raw[df_nbr_raw['Neighborhood'] == 'Not assigned'] #shows that there are no neighborhoods that are not assigned\n",
    "#df_nbr_raw.shape\n",
    "#df_nbr_raw.info\n",
    "print (\"Number of not assigned neighborhood = \" + str(df_nbr_raw[df_nbr_raw.Neighborhood =='Not assigned'].shape[0]))\n"
   ]
  },
  {
   "cell_type": "code",
   "execution_count": 26,
   "metadata": {},
   "outputs": [
    {
     "data": {
      "text/plain": [
       "pandas.core.frame.DataFrame"
      ]
     },
     "execution_count": 26,
     "metadata": {},
     "output_type": "execute_result"
    }
   ],
   "source": [
    "#Combine two rows with different neighborhood into one row with the neighborhoods separated with a comma\n",
    "df_tmp = df_nbr_raw.groupby(['PostalCode', 'Borough'], sort=False)['Neighborhood'].agg(','.join)\n",
    "df_nbr = df_tmp.reset_index()\n",
    "df_nbr.head(20)"
   ]
  },
  {
   "cell_type": "code",
   "execution_count": 33,
   "metadata": {},
   "outputs": [
    {
     "data": {
      "text/plain": [
       "0"
      ]
     },
     "execution_count": 33,
     "metadata": {},
     "output_type": "execute_result"
    }
   ],
   "source": [
    "#If a cell has a borough but a Not assigned neighborhood, then the neighborhood will be the same as the borough.\n",
    "df_nbr.loc[(df_nbr.Neighborhood ==  'Not assigned'), 'Neighborhood'] = df_nbr.Borough\n",
    "#df_nbr[df_nbr.Neighborhood =='Not assigned'].shape[0]"
   ]
  },
  {
   "cell_type": "code",
   "execution_count": 43,
   "metadata": {},
   "outputs": [
    {
     "data": {
      "text/plain": [
       "(103, 3)"
      ]
     },
     "execution_count": 43,
     "metadata": {},
     "output_type": "execute_result"
    }
   ],
   "source": [
    "df_nbr.shape"
   ]
  },
  {
   "cell_type": "code",
   "execution_count": null,
   "metadata": {},
   "outputs": [],
   "source": []
  }
 ],
 "metadata": {
  "kernelspec": {
   "display_name": "Python",
   "language": "python",
   "name": "conda-env-python-py"
  },
  "language_info": {
   "codemirror_mode": {
    "name": "ipython",
    "version": 3
   },
   "file_extension": ".py",
   "mimetype": "text/x-python",
   "name": "python",
   "nbconvert_exporter": "python",
   "pygments_lexer": "ipython3",
   "version": "3.6.11"
  }
 },
 "nbformat": 4,
 "nbformat_minor": 4
}
